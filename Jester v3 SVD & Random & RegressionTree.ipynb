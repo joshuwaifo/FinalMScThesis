{
 "cells": [
  {
   "cell_type": "code",
   "execution_count": 9,
   "metadata": {},
   "outputs": [],
   "source": [
    "import numpy as np\n",
    "import pandas as pd\n",
    "\n",
    "from sklearn.dummy import DummyRegressor\n",
    "from sklearn.tree import DecisionTreeRegressor\n",
    "\n",
    "from sklearn.metrics import mean_squared_error"
   ]
  },
  {
   "cell_type": "code",
   "execution_count": 2,
   "metadata": {},
   "outputs": [],
   "source": [
    "from surprise import Reader, Dataset, SVD, accuracy"
   ]
  },
  {
   "cell_type": "code",
   "execution_count": 2,
   "metadata": {},
   "outputs": [],
   "source": [
    "X_train =  np.load(\"J3_Xtr.npy\")\n",
    "X_val =  np.load(\"J3_Xval.npy\")\n",
    "X_test =  np.load(\"J3_Xtest.npy\")"
   ]
  },
  {
   "cell_type": "code",
   "execution_count": 4,
   "metadata": {},
   "outputs": [],
   "source": [
    "# binary label"
   ]
  },
  {
   "cell_type": "code",
   "execution_count": 3,
   "metadata": {},
   "outputs": [],
   "source": [
    "# load labels\n",
    "y_train_bin =  np.load(\"J3_ytrBin.npy\")\n",
    "y_val_bin =  np.load(\"J3_yvalBin.npy\")\n",
    "y_test_bin =  np.load(\"J3_ytestBin.npy\")"
   ]
  },
  {
   "cell_type": "code",
   "execution_count": 11,
   "metadata": {},
   "outputs": [],
   "source": [
    "train = np.concatenate([X_train, y_train_bin], axis=1)\n",
    "val = np.concatenate([X_val, y_val_bin], axis=1)\n",
    "test = np.concatenate([X_test, y_test_bin], axis=1)\n",
    "\n",
    "train_df = pd.DataFrame(data = train)\n",
    "val_df = pd.DataFrame(data = val)                 \n",
    "test_df = pd.DataFrame(data = test)        \n",
    "\n",
    "train_df.columns = ['user id', 'item id', 'ratings']\n",
    "val_df.columns = ['user id', 'item id', 'ratings']\n",
    "test_df.columns = ['user id', 'item id', 'ratings']"
   ]
  },
  {
   "cell_type": "code",
   "execution_count": 12,
   "metadata": {},
   "outputs": [],
   "source": [
    "# A reader is still needed but only the rating_scale param is requiered.\n",
    "reader = Reader(rating_scale=(0, 1))\n",
    "\n",
    "# The columns must correspond to user id, item id and ratings (in that order).\n",
    "trainset = Dataset.load_from_df(train_df, reader).build_full_trainset()\n",
    "\n",
    "# load as test sets\n",
    "valset = Dataset.load_from_df(val_df, reader).build_full_trainset().build_testset()\n",
    "testset = Dataset.load_from_df(test_df, reader).build_full_trainset().build_testset()"
   ]
  },
  {
   "cell_type": "code",
   "execution_count": 13,
   "metadata": {},
   "outputs": [
    {
     "name": "stdout",
     "output_type": "stream",
     "text": [
      "RMSE: 0.2299\n",
      "0.2298564809683357\n",
      "RMSE: 0.2303\n",
      "0.23029355937537352\n"
     ]
    }
   ],
   "source": [
    "# using the famous SVD algorithm\n",
    "svd = SVD()\n",
    "svd.fit(trainset)\n",
    "\n",
    "val_pred = svd.test(valset)\n",
    "val_rmse = accuracy.rmse(val_pred, verbose=True)\n",
    "print(val_rmse)\n",
    "test_pred = svd.test(testset)\n",
    "test_rmse = accuracy.rmse(test_pred, verbose=True)\n",
    "print(test_rmse)"
   ]
  },
  {
   "cell_type": "code",
   "execution_count": 4,
   "metadata": {},
   "outputs": [],
   "source": [
    "# Simple dummy regressor based on mean of training set"
   ]
  },
  {
   "cell_type": "code",
   "execution_count": 5,
   "metadata": {},
   "outputs": [
    {
     "name": "stdout",
     "output_type": "stream",
     "text": [
      "0.27355387633398764\n",
      "0.27425805884877025\n"
     ]
    }
   ],
   "source": [
    "model = DummyRegressor(strategy='mean')\n",
    "model.fit(X_train, y_train_bin)\n",
    "\n",
    "val_pred = model.predict(X_val)\n",
    "val_rmse = mean_squared_error(val_pred, y_val_bin)**0.5\n",
    "print(val_rmse)\n",
    "\n",
    "test_pred = model.predict(X_test)\n",
    "test_rmse = mean_squared_error(test_pred, y_test_bin)**0.5\n",
    "print(test_rmse)\n"
   ]
  },
  {
   "cell_type": "code",
   "execution_count": null,
   "metadata": {},
   "outputs": [],
   "source": [
    "# Regression Tree"
   ]
  },
  {
   "cell_type": "code",
   "execution_count": 10,
   "metadata": {},
   "outputs": [
    {
     "name": "stdout",
     "output_type": "stream",
     "text": [
      "0.3349711111389338\n",
      "0.33533793104180865\n"
     ]
    }
   ],
   "source": [
    "model = DecisionTreeRegressor(random_state=0)\n",
    "model.fit(X_train, y_train_bin)\n",
    "\n",
    "val_pred = model.predict(X_val)\n",
    "val_rmse = mean_squared_error(val_pred, y_val_bin)**0.5\n",
    "print(val_rmse)\n",
    "\n",
    "test_pred = model.predict(X_test)\n",
    "test_rmse = mean_squared_error(test_pred, y_test_bin)**0.5\n",
    "print(test_rmse)\n"
   ]
  },
  {
   "cell_type": "code",
   "execution_count": 8,
   "metadata": {},
   "outputs": [],
   "source": [
    "# continuous label (-10, 10)"
   ]
  },
  {
   "cell_type": "code",
   "execution_count": 6,
   "metadata": {},
   "outputs": [],
   "source": [
    "# load labels\n",
    "y_train_cat =  np.load(\"J3_ytrCat.npy\")\n",
    "y_val_cat =  np.load(\"J3_yvalCat.npy\")\n",
    "y_test_cat =  np.load(\"J3_ytestCat.npy\")"
   ]
  },
  {
   "cell_type": "code",
   "execution_count": 17,
   "metadata": {},
   "outputs": [],
   "source": [
    "train = np.concatenate([X_train, y_train_cat], axis=1)\n",
    "val = np.concatenate([X_val, y_val_cat], axis=1)\n",
    "test = np.concatenate([X_test, y_test_cat], axis=1)\n",
    "\n",
    "train_df = pd.DataFrame(data = train)\n",
    "val_df = pd.DataFrame(data = val)                 \n",
    "test_df = pd.DataFrame(data = test)        \n",
    "\n",
    "train_df.columns = ['user id', 'item id', 'ratings']\n",
    "val_df.columns = ['user id', 'item id', 'ratings']\n",
    "test_df.columns = ['user id', 'item id', 'ratings']"
   ]
  },
  {
   "cell_type": "code",
   "execution_count": 18,
   "metadata": {},
   "outputs": [],
   "source": [
    "# A reader is still needed but only the rating_scale param is requiered.\n",
    "reader = Reader(rating_scale=(-10, 10))\n",
    "\n",
    "# The columns must correspond to user id, item id and ratings (in that order).\n",
    "trainset = Dataset.load_from_df(train_df, reader).build_full_trainset()\n",
    "\n",
    "# load as test sets\n",
    "valset = Dataset.load_from_df(val_df, reader).build_full_trainset().build_testset()\n",
    "testset = Dataset.load_from_df(test_df, reader).build_full_trainset().build_testset()"
   ]
  },
  {
   "cell_type": "code",
   "execution_count": 19,
   "metadata": {},
   "outputs": [
    {
     "name": "stdout",
     "output_type": "stream",
     "text": [
      "RMSE: 77.5467\n",
      "77.5467191083278\n",
      "RMSE: 77.5337\n",
      "77.53366844681393\n"
     ]
    }
   ],
   "source": [
    "# using the famous SVD algorithm\n",
    "svd = SVD()\n",
    "svd.fit(trainset)\n",
    "\n",
    "val_pred = svd.test(valset)\n",
    "val_rmse = accuracy.rmse(val_pred, verbose=True)\n",
    "print(val_rmse)\n",
    "test_pred = svd.test(testset)\n",
    "test_rmse = accuracy.rmse(test_pred, verbose=True)\n",
    "print(test_rmse)"
   ]
  },
  {
   "cell_type": "code",
   "execution_count": 7,
   "metadata": {},
   "outputs": [],
   "source": [
    "# Simple dummy regressor based on mean of training set"
   ]
  },
  {
   "cell_type": "code",
   "execution_count": 8,
   "metadata": {},
   "outputs": [
    {
     "name": "stdout",
     "output_type": "stream",
     "text": [
      "41.871256782944286\n",
      "41.90156515416368\n"
     ]
    }
   ],
   "source": [
    "model = DummyRegressor(strategy='mean')\n",
    "model.fit(X_train, y_train_cat)\n",
    "\n",
    "val_pred = model.predict(X_val)\n",
    "val_rmse = mean_squared_error(val_pred, y_val_cat)**0.5\n",
    "print(val_rmse)\n",
    "\n",
    "test_pred = model.predict(X_test)\n",
    "test_rmse = mean_squared_error(test_pred, y_test_cat)**0.5\n",
    "print(test_rmse)\n"
   ]
  },
  {
   "cell_type": "code",
   "execution_count": 11,
   "metadata": {},
   "outputs": [],
   "source": [
    "# Regression Tree"
   ]
  },
  {
   "cell_type": "code",
   "execution_count": 12,
   "metadata": {},
   "outputs": [
    {
     "name": "stdout",
     "output_type": "stream",
     "text": [
      "47.868795393394045\n",
      "47.879123711100824\n"
     ]
    }
   ],
   "source": [
    "model = DecisionTreeRegressor(random_state=0)\n",
    "model.fit(X_train, y_train_cat)\n",
    "\n",
    "val_pred = model.predict(X_val)\n",
    "val_rmse = mean_squared_error(val_pred, y_val_cat)**0.5\n",
    "print(val_rmse)\n",
    "\n",
    "test_pred = model.predict(X_test)\n",
    "test_rmse = mean_squared_error(test_pred, y_test_cat)**0.5\n",
    "print(test_rmse)\n"
   ]
  },
  {
   "cell_type": "code",
   "execution_count": null,
   "metadata": {},
   "outputs": [],
   "source": []
  }
 ],
 "metadata": {
  "kernelspec": {
   "display_name": "Python 3",
   "language": "python",
   "name": "python3"
  },
  "language_info": {
   "codemirror_mode": {
    "name": "ipython",
    "version": 3
   },
   "file_extension": ".py",
   "mimetype": "text/x-python",
   "name": "python",
   "nbconvert_exporter": "python",
   "pygments_lexer": "ipython3",
   "version": "3.6.5"
  }
 },
 "nbformat": 4,
 "nbformat_minor": 2
}
