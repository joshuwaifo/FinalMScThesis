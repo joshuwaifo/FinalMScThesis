{
 "cells": [
  {
   "cell_type": "code",
   "execution_count": 1,
   "metadata": {},
   "outputs": [],
   "source": [
    "import pandas as pd\n",
    "import numpy as np\n",
    "from sklearn.model_selection import train_test_split"
   ]
  },
  {
   "cell_type": "code",
   "execution_count": null,
   "metadata": {},
   "outputs": [],
   "source": [
    "data_path = \"data/MovieLens20M/ratings.csv\"\n",
    "\n",
    "raw = pd.read_csv(data_path, sep=',')\n",
    "\n",
    "X = raw.iloc[:,:-2].get_values() \n",
    "y = raw.iloc[:,-2].get_values()"
   ]
  },
  {
   "cell_type": "code",
   "execution_count": null,
   "metadata": {},
   "outputs": [],
   "source": [
    "frac = np.sum(y>3)/np.size(y) "
   ]
  },
  {
   "cell_type": "markdown",
   "metadata": {},
   "source": [
    "61 percent of the labels is in class 1 and 39% is in class 0\n",
    "\n",
    "As the split isn't unfavourably imbalanced, I will use the roc_auc metric when binarizing the label"
   ]
  },
  {
   "cell_type": "code",
   "execution_count": 3,
   "metadata": {},
   "outputs": [],
   "source": [
    "# One hot encoded version using original X\n",
    "# split as in the next cell\n",
    "from sklearn.preprocessing import OneHotEncoder\n",
    "one_hot_encoder = OneHotEncoder()\n",
    "X_enc = one_hot_encoder.fit_transform(X)\n",
    "\n",
    "# split train, validation and test (60,20,20)\n",
    "X_trainVal_enc, X_test_enc, X_trainVal, X_test, y_trainVal, y_test = train_test_split(X_enc, X, y, test_size=0.2, random_state=10031996, shuffle=True)\n",
    "\n",
    "X_train_enc, X_val_enc, X_train, X_val, y_train, y_val = train_test_split(X_trainVal_enc, X_trainVal, y_trainVal, test_size=0.25, random_state=10031996, shuffle=True)\n",
    "\n",
    "del X_trainVal_enc, X_trainVal, y_trainVal"
   ]
  },
  {
   "cell_type": "code",
   "execution_count": 6,
   "metadata": {},
   "outputs": [
    {
     "name": "stdout",
     "output_type": "stream",
     "text": [
      "(12000157, 2)\n",
      "(4000053, 2)\n",
      "(4000053, 2)\n",
      "(12000157, 165237)\n",
      "(4000053, 165237)\n",
      "(4000053, 165237)\n"
     ]
    }
   ],
   "source": [
    "print(X_train.shape) # 12 million movie ratings\n",
    "print(X_val.shape) # 4 million movie ratings\n",
    "print(X_test.shape) # 4 million movie ratings\n",
    "\n",
    "print(X_train_enc.shape) # 12 million movie ratings\n",
    "print(X_val_enc.shape) # 4 million movie ratings\n",
    "print(X_test_enc.shape) # 4 million movie ratings"
   ]
  },
  {
   "cell_type": "markdown",
   "metadata": {},
   "source": [
    "# Binary and non binary labels"
   ]
  },
  {
   "cell_type": "code",
   "execution_count": 7,
   "metadata": {
    "scrolled": true
   },
   "outputs": [],
   "source": [
    "categories = np.linspace(0,5,num=11)"
   ]
  },
  {
   "cell_type": "code",
   "execution_count": 8,
   "metadata": {},
   "outputs": [],
   "source": [
    "y_train_bin = y_train>3 # binary\n",
    "y_train_cat = y_train # non-binary but still categorical\n",
    "y_train_cat = np.digitize(y_train_cat,categories)\n",
    "\n",
    "y_val_bin = y_val>3\n",
    "y_val_cat = y_val\n",
    "y_val_cat = np.digitize(y_val_cat,categories)\n",
    "\n",
    "y_test_bin = y_test>3\n",
    "y_test_cat = y_test\n",
    "y_test_cat = np.digitize(y_test_cat,categories)"
   ]
  },
  {
   "cell_type": "markdown",
   "metadata": {},
   "source": [
    "# Save files"
   ]
  },
  {
   "cell_type": "code",
   "execution_count": 14,
   "metadata": {},
   "outputs": [],
   "source": [
    "np.save(\"ML20_Xtr\", X_train)\n",
    "np.save(\"ML20_XtrEnc\", X_train_enc)\n",
    "np.save(\"ML20_Xval\", X_val)\n",
    "np.save(\"ML20_XvalEnc\", X_val_enc)\n",
    "np.save(\"ML20_Xtest\", X_test)\n",
    "np.save(\"ML20_XtestEnc\", X_test_enc)\n",
    "\n",
    "np.save(\"ML20_ytrBin\", y_train_bin)\n",
    "np.save(\"ML20_ytrCat\", y_train_cat)\n",
    "np.save(\"ML20_yvalBin\", y_val_bin)\n",
    "np.save(\"ML20_yvalCat\", y_val_cat)\n",
    "np.save(\"ML20_ytestBin\", y_test_bin)\n",
    "np.save(\"ML20_ytestCat\", y_test_cat)\n"
   ]
  }
 ],
 "metadata": {
  "kernelspec": {
   "display_name": "Python 3",
   "language": "python",
   "name": "python3"
  },
  "language_info": {
   "codemirror_mode": {
    "name": "ipython",
    "version": 3
   },
   "file_extension": ".py",
   "mimetype": "text/x-python",
   "name": "python",
   "nbconvert_exporter": "python",
   "pygments_lexer": "ipython3",
   "version": "3.6.5"
  }
 },
 "nbformat": 4,
 "nbformat_minor": 2
}
