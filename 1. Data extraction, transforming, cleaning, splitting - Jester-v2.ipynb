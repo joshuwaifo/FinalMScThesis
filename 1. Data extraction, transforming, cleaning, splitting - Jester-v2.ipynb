{
 "cells": [
  {
   "cell_type": "code",
   "execution_count": 1,
   "metadata": {},
   "outputs": [],
   "source": [
    "import pandas as pd\n",
    "import numpy as np\n",
    "from sklearn.model_selection import train_test_split"
   ]
  },
  {
   "cell_type": "code",
   "execution_count": 2,
   "metadata": {},
   "outputs": [],
   "source": [
    "data_path = \"data/Jester/jester-v2/jester_ratings.dat\"\n",
    "header= [\"user id\", \"item id\", \"rating\"]\n",
    "raw = pd.read_csv(data_path, sep='\\s+', names=header)"
   ]
  },
  {
   "cell_type": "code",
   "execution_count": 3,
   "metadata": {},
   "outputs": [],
   "source": [
    "X = raw.iloc[:,:-1].get_values()\n",
    "y = raw.iloc[:,-1].get_values()"
   ]
  },
  {
   "cell_type": "code",
   "execution_count": 4,
   "metadata": {},
   "outputs": [],
   "source": [
    "frac = np.sum(y>0)/np.size(y) "
   ]
  },
  {
   "cell_type": "markdown",
   "metadata": {},
   "source": [
    "66.2% percent of the labels is in class 1 and 34.8% is in class 0\n",
    "\n",
    "This was a bit risky, however as version 3 is also using the average precision/recall metric as well as the auc_roc metric, I will us be consistent and as it isnt ~90:10 I will still use the roc_auc metric, but will be aware of the possibility of it favouring class 1 (when binarizing the label)"
   ]
  },
  {
   "cell_type": "code",
   "execution_count": 4,
   "metadata": {},
   "outputs": [],
   "source": [
    "# One hot encoded version using original X\n",
    "# split as in the next cell\n",
    "from sklearn.preprocessing import OneHotEncoder\n",
    "one_hot_encoder = OneHotEncoder()\n",
    "X_enc = one_hot_encoder.fit_transform(X)\n",
    "\n",
    "# split train, validation and test (60,20,20)\n",
    "X_trainVal_enc, X_test_enc, X_trainVal, X_test, y_trainVal, y_test = train_test_split(X_enc, X, y, test_size=0.2, random_state=10031996, shuffle=True)\n",
    "\n",
    "X_train_enc, X_val_enc, X_train, X_val, y_train, y_val = train_test_split(X_trainVal_enc, X_trainVal, y_trainVal, test_size=0.25, random_state=10031996, shuffle=True)\n",
    "\n",
    "del X_trainVal_enc, X_trainVal, y_trainVal"
   ]
  },
  {
   "cell_type": "code",
   "execution_count": 5,
   "metadata": {},
   "outputs": [
    {
     "name": "stdout",
     "output_type": "stream",
     "text": [
      "(1056863, 2)\n",
      "(352288, 2)\n",
      "(352288, 2)\n",
      "(1056863, 59272)\n",
      "(352288, 59272)\n",
      "(352288, 59272)\n"
     ]
    }
   ],
   "source": [
    "print(X_train.shape) # 1.1 million joke ratings\n",
    "print(X_val.shape) # 0.35 million joke ratings\n",
    "print(X_test.shape) # 0.35 million joke ratings\n",
    "\n",
    "print(X_train_enc.shape) # 1.1 million joke ratings\n",
    "print(X_val_enc.shape) # 0.35 million joke ratings\n",
    "print(X_test_enc.shape) # 0.35 million joke ratings"
   ]
  },
  {
   "cell_type": "markdown",
   "metadata": {},
   "source": [
    "# Binary and non binary labels"
   ]
  },
  {
   "cell_type": "code",
   "execution_count": 6,
   "metadata": {},
   "outputs": [],
   "source": [
    "y_train_bin = y_train>0 # binary\n",
    "y_train_cont = y_train # continuous (-10,10)\n",
    "\n",
    "y_val_bin = y_val>0\n",
    "y_val_cont = y_val\n",
    "\n",
    "y_test_bin = y_test>0\n",
    "y_test_cont = y_test"
   ]
  },
  {
   "cell_type": "markdown",
   "metadata": {},
   "source": [
    "# Save files"
   ]
  },
  {
   "cell_type": "code",
   "execution_count": 7,
   "metadata": {},
   "outputs": [],
   "source": [
    "np.save(\"J2_Xtr\", X_train)\n",
    "np.save(\"J2_XtrEnc\", X_train_enc)\n",
    "np.save(\"J2_Xval\", X_val)\n",
    "np.save(\"J2_XvalEnc\", X_val_enc)\n",
    "np.save(\"J2_Xtest\", X_test)\n",
    "np.save(\"J2_XtestEnc\", X_test_enc)\n",
    "\n",
    "np.save(\"J2_ytrBin\", y_train_bin)\n",
    "np.save(\"J2_ytrCat\", y_train_cont)\n",
    "np.save(\"J2_yvalBin\", y_val_bin)\n",
    "np.save(\"J2_yvalCat\", y_val_cont)\n",
    "np.save(\"J2_ytestBin\", y_test_bin)\n",
    "np.save(\"J2_ytestCat\", y_test_cont)\n"
   ]
  },
  {
   "cell_type": "code",
   "execution_count": null,
   "metadata": {},
   "outputs": [],
   "source": []
  }
 ],
 "metadata": {
  "kernelspec": {
   "display_name": "Python 3",
   "language": "python",
   "name": "python3"
  },
  "language_info": {
   "codemirror_mode": {
    "name": "ipython",
    "version": 3
   },
   "file_extension": ".py",
   "mimetype": "text/x-python",
   "name": "python",
   "nbconvert_exporter": "python",
   "pygments_lexer": "ipython3",
   "version": "3.6.5"
  }
 },
 "nbformat": 4,
 "nbformat_minor": 2
}
