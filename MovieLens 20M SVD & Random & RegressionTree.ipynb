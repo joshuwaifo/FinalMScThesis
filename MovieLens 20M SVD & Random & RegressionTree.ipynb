{
 "cells": [
  {
   "cell_type": "code",
   "execution_count": 1,
   "metadata": {},
   "outputs": [],
   "source": [
    "import numpy as np\n",
    "import pandas as pd\n",
    "\n",
    "from sklearn.dummy import DummyRegressor\n",
    "from sklearn.tree import DecisionTreeRegressor\n",
    "\n",
    "from sklearn.metrics import mean_squared_error"
   ]
  },
  {
   "cell_type": "code",
   "execution_count": 2,
   "metadata": {},
   "outputs": [],
   "source": [
    "from surprise import Reader, Dataset, SVD, accuracy"
   ]
  },
  {
   "cell_type": "code",
   "execution_count": 3,
   "metadata": {},
   "outputs": [],
   "source": [
    "X_train =  np.load(\"ML20_Xtr.npy\")\n",
    "X_val =  np.load(\"ML20_Xval.npy\")\n",
    "X_test =  np.load(\"ML20_Xtest.npy\")"
   ]
  },
  {
   "cell_type": "code",
   "execution_count": 5,
   "metadata": {},
   "outputs": [],
   "source": [
    "# binary label"
   ]
  },
  {
   "cell_type": "code",
   "execution_count": 9,
   "metadata": {},
   "outputs": [],
   "source": [
    "# load labels\n",
    "y_train_bin =  np.load(\"ML20_ytrBin.npy\")[:,None] # shape(N,1) instead of (N,)\n",
    "y_val_bin =  np.load(\"ML20_yvalBin.npy\")[:,None]\n",
    "y_test_bin =  np.load(\"ML20_ytestBin.npy\")[:,None]"
   ]
  },
  {
   "cell_type": "code",
   "execution_count": 10,
   "metadata": {},
   "outputs": [],
   "source": [
    "train = np.concatenate([X_train, y_train_bin], axis=1)\n",
    "val = np.concatenate([X_val, y_val_bin], axis=1)\n",
    "test = np.concatenate([X_test, y_test_bin], axis=1)\n",
    "\n",
    "train_df = pd.DataFrame(data = train)\n",
    "val_df = pd.DataFrame(data = val)                 \n",
    "test_df = pd.DataFrame(data = test)        \n",
    "\n",
    "train_df.columns = ['user id', 'item id', 'ratings']\n",
    "val_df.columns = ['user id', 'item id', 'ratings']\n",
    "test_df.columns = ['user id', 'item id', 'ratings']"
   ]
  },
  {
   "cell_type": "code",
   "execution_count": null,
   "metadata": {},
   "outputs": [],
   "source": [
    "# SVD"
   ]
  },
  {
   "cell_type": "code",
   "execution_count": 12,
   "metadata": {},
   "outputs": [],
   "source": [
    "# A reader is still needed but only the rating_scale param is requiered.\n",
    "reader = Reader(rating_scale=(0, 1))\n",
    "\n",
    "# The columns must correspond to user id, item id and ratings (in that order).\n",
    "trainset = Dataset.load_from_df(train_df, reader).build_full_trainset()\n",
    "\n",
    "# load as test sets\n",
    "valset = Dataset.load_from_df(val_df, reader).build_full_trainset().build_testset()\n",
    "testset = Dataset.load_from_df(test_df, reader).build_full_trainset().build_testset()"
   ]
  },
  {
   "cell_type": "code",
   "execution_count": 13,
   "metadata": {
    "scrolled": true
   },
   "outputs": [
    {
     "name": "stdout",
     "output_type": "stream",
     "text": [
      "RMSE: 0.4174\n",
      "0.41743675369333794\n",
      "RMSE: 0.4176\n",
      "0.4175909781120648\n"
     ]
    }
   ],
   "source": [
    "# using the famous SVD algorithm\n",
    "svd = SVD()\n",
    "svd.fit(trainset)\n",
    "\n",
    "val_pred = svd.test(valset)\n",
    "val_rmse = accuracy.rmse(val_pred, verbose=True)\n",
    "print(val_rmse)\n",
    "test_pred = svd.test(testset)\n",
    "test_rmse = accuracy.rmse(test_pred, verbose=True)\n",
    "print(test_rmse)"
   ]
  },
  {
   "cell_type": "code",
   "execution_count": 19,
   "metadata": {},
   "outputs": [],
   "source": [
    "# Simple dummy regressor based on mean of training set"
   ]
  },
  {
   "cell_type": "code",
   "execution_count": 20,
   "metadata": {},
   "outputs": [
    {
     "name": "stdout",
     "output_type": "stream",
     "text": [
      "0.4877543956196794\n",
      "0.4878512727666714\n"
     ]
    }
   ],
   "source": [
    "model = DummyRegressor(strategy='mean')\n",
    "model.fit(X_train, y_train_bin)\n",
    "\n",
    "val_pred = model.predict(X_val)\n",
    "val_rmse = mean_squared_error(val_pred, y_val_bin)**0.5\n",
    "print(val_rmse)\n",
    "\n",
    "test_pred = model.predict(X_test)\n",
    "test_rmse = mean_squared_error(test_pred, y_test_bin)**0.5\n",
    "print(test_rmse)\n"
   ]
  },
  {
   "cell_type": "code",
   "execution_count": 26,
   "metadata": {},
   "outputs": [],
   "source": [
    "# Regression Tree"
   ]
  },
  {
   "cell_type": "code",
   "execution_count": 27,
   "metadata": {},
   "outputs": [
    {
     "name": "stdout",
     "output_type": "stream",
     "text": [
      "0.6307408173725418\n",
      "0.630906075368746\n"
     ]
    }
   ],
   "source": [
    "model = DecisionTreeRegressor(random_state=0)\n",
    "model.fit(X_train, y_train_bin)\n",
    "\n",
    "val_pred = model.predict(X_val)\n",
    "val_rmse = mean_squared_error(val_pred, y_val_bin)**0.5\n",
    "print(val_rmse)\n",
    "\n",
    "test_pred = model.predict(X_test)\n",
    "test_rmse = mean_squared_error(test_pred, y_test_bin)**0.5\n",
    "print(test_rmse)\n"
   ]
  },
  {
   "cell_type": "code",
   "execution_count": 4,
   "metadata": {},
   "outputs": [],
   "source": [
    "# continuous label (1, 11)"
   ]
  },
  {
   "cell_type": "code",
   "execution_count": 5,
   "metadata": {},
   "outputs": [],
   "source": [
    "# load labels\n",
    "y_train_cat =  np.load(\"ML20_ytrCat.npy\")[:,None]\n",
    "y_val_cat =  np.load(\"ML20_yvalCat.npy\")[:,None]\n",
    "y_test_cat =  np.load(\"ML20_ytestCat.npy\")[:,None]"
   ]
  },
  {
   "cell_type": "code",
   "execution_count": 6,
   "metadata": {},
   "outputs": [],
   "source": [
    "train = np.concatenate([X_train, y_train_cat], axis=1)\n",
    "val = np.concatenate([X_val, y_val_cat], axis=1)\n",
    "test = np.concatenate([X_test, y_test_cat], axis=1)\n",
    "\n",
    "train_df = pd.DataFrame(data = train)\n",
    "val_df = pd.DataFrame(data = val)                 \n",
    "test_df = pd.DataFrame(data = test)        \n",
    "\n",
    "train_df.columns = ['user id', 'item id', 'ratings']\n",
    "val_df.columns = ['user id', 'item id', 'ratings']\n",
    "test_df.columns = ['user id', 'item id', 'ratings']"
   ]
  },
  {
   "cell_type": "code",
   "execution_count": 7,
   "metadata": {},
   "outputs": [],
   "source": [
    "# A reader is still needed but only the rating_scale param is requiered.\n",
    "reader = Reader(rating_scale=(1, 11))\n",
    "\n",
    "# The columns must correspond to user id, item id and ratings (in that order).\n",
    "trainset = Dataset.load_from_df(train_df, reader).build_full_trainset()\n",
    "\n",
    "# load as test sets\n",
    "valset = Dataset.load_from_df(val_df, reader).build_full_trainset().build_testset()\n",
    "testset = Dataset.load_from_df(test_df, reader).build_full_trainset().build_testset()"
   ]
  },
  {
   "cell_type": "code",
   "execution_count": 8,
   "metadata": {},
   "outputs": [
    {
     "name": "stdout",
     "output_type": "stream",
     "text": [
      "RMSE: 1.6751\n",
      "1.67510723506543\n",
      "RMSE: 1.6763\n",
      "1.6763265024694802\n"
     ]
    }
   ],
   "source": [
    "# using the famous SVD algorithm\n",
    "svd = SVD()\n",
    "svd.fit(trainset)\n",
    "\n",
    "val_pred = svd.test(valset)\n",
    "val_rmse = accuracy.rmse(val_pred, verbose=True)\n",
    "print(val_rmse)\n",
    "test_pred = svd.test(testset)\n",
    "test_rmse = accuracy.rmse(test_pred, verbose=True)\n",
    "print(test_rmse)"
   ]
  },
  {
   "cell_type": "code",
   "execution_count": 9,
   "metadata": {},
   "outputs": [],
   "source": [
    "# Simple dummy regressor based on mean of training set"
   ]
  },
  {
   "cell_type": "code",
   "execution_count": 10,
   "metadata": {},
   "outputs": [
    {
     "name": "stdout",
     "output_type": "stream",
     "text": [
      "2.104242741821585\n",
      "2.10419212748119\n"
     ]
    }
   ],
   "source": [
    "model = DummyRegressor(strategy='mean')\n",
    "model.fit(X_train, y_train_cat)\n",
    "\n",
    "val_pred = model.predict(X_val)\n",
    "val_rmse = mean_squared_error(val_pred, y_val_cat)**0.5\n",
    "print(val_rmse)\n",
    "\n",
    "test_pred = model.predict(X_test)\n",
    "test_rmse = mean_squared_error(test_pred, y_test_cat)**0.5\n",
    "print(test_rmse)\n"
   ]
  },
  {
   "cell_type": "code",
   "execution_count": 11,
   "metadata": {},
   "outputs": [],
   "source": [
    "# Regression Tree"
   ]
  },
  {
   "cell_type": "code",
   "execution_count": 12,
   "metadata": {},
   "outputs": [
    {
     "name": "stdout",
     "output_type": "stream",
     "text": [
      "2.6582225966888666\n",
      "2.6598047413416044\n"
     ]
    }
   ],
   "source": [
    "model = DecisionTreeRegressor(random_state=0)\n",
    "model.fit(X_train, y_train_cat)\n",
    "\n",
    "val_pred = model.predict(X_val)\n",
    "val_rmse = mean_squared_error(val_pred, y_val_cat)**0.5\n",
    "print(val_rmse)\n",
    "\n",
    "test_pred = model.predict(X_test)\n",
    "test_rmse = mean_squared_error(test_pred, y_test_cat)**0.5\n",
    "print(test_rmse)\n"
   ]
  },
  {
   "cell_type": "code",
   "execution_count": null,
   "metadata": {},
   "outputs": [],
   "source": []
  }
 ],
 "metadata": {
  "kernelspec": {
   "display_name": "Python 3",
   "language": "python",
   "name": "python3"
  },
  "language_info": {
   "codemirror_mode": {
    "name": "ipython",
    "version": 3
   },
   "file_extension": ".py",
   "mimetype": "text/x-python",
   "name": "python",
   "nbconvert_exporter": "python",
   "pygments_lexer": "ipython3",
   "version": "3.6.5"
  }
 },
 "nbformat": 4,
 "nbformat_minor": 2
}
